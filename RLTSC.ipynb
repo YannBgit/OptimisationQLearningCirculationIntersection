{
 "cells": [
  {
   "cell_type": "markdown",
   "id": "f8dc0daf",
   "metadata": {},
   "source": [
    "## Contrôle des feux de signalisation par utilisation de Q-learning"
   ]
  },
  {
   "cell_type": "markdown",
   "id": "f2d750eb",
   "metadata": {},
   "source": [
    "Simulation inspiré de l'article \"Guidelines for Action Space Definition in Reinforcement Learning-Based Traffic Signal Control Systems\" de Maxime Treca, Julian Garbiso, Dominique Barth"
   ]
  },
  {
   "cell_type": "code",
   "execution_count": 1,
   "id": "531e2673",
   "metadata": {},
   "outputs": [],
   "source": [
    "import numpy as np"
   ]
  },
  {
   "cell_type": "code",
   "execution_count": 2,
   "id": "1f083a16",
   "metadata": {},
   "outputs": [],
   "source": [
    "class Intersection:\n",
    "    def __init__(self, tauxPoisson1, tauxPoisson2):\n",
    "        self.tauxPoisson1 = tauxPoisson1\n",
    "        self.tauxPoisson2 = tauxPoisson2\n",
    "        self.file1 = 0\n",
    "        self.file2 = 0\n",
    "        self.lVerte = 0\n",
    "        self.duree = 20 # Durée initiale des feux verts\n",
    "        self.tempsDepuisDernierChangement = 0\n",
    "\n",
    "    def etape(self):\n",
    "        # Nombre d'arrivées sur chaque route\n",
    "        arrivees1 = np.random.poisson(self.tauxPoisson1)\n",
    "        arrivees2 = np.random.poisson(self.tauxPoisson2)\n",
    "\n",
    "        # Mise à jour des files\n",
    "        self.file1 += arrivees1\n",
    "        self.file2 += arrivees2\n",
    "\n",
    "        # Mise à jour de la durée des feux verts\n",
    "        self.tempsDepuisDernierChangement += 1\n",
    "\n",
    "        if self.tempsDepuisDernierChangement >= self.duree:\n",
    "            self.lVerte = (self.lVerte + 1) % 2\n",
    "            self.duree = 20 # Réinitialisation\n",
    "            self.tempsDepuisDernierChangement = 0\n",
    "\n",
    "        # Passage des voitures au feu vert\n",
    "        if self.lVerte == 0:\n",
    "            self.file1 = max(0, self.file1 - 1)\n",
    "        else:\n",
    "            self.file2 = max(0, self.file2 - 1)\n",
    "            \n",
    "        # Calcul du temps d'attente total\n",
    "        tempsAttente = self.file1 + self.file2\n",
    "        \n",
    "        # Calcul de la récompense\n",
    "        recompense = -tempsAttente\n",
    "\n",
    "        return (self.file1, self.file2, self.lVerte), recompense"
   ]
  },
  {
   "cell_type": "code",
   "execution_count": 6,
   "id": "0b98db42",
   "metadata": {},
   "outputs": [],
   "source": [
    "class QLearner:\n",
    "    def __init__(self, tauxApprentissage, discount, tauxExploration):\n",
    "        self.tauxApprentissage = tauxApprentissage\n",
    "        self.discount = discount\n",
    "        self.tauxExploration = tauxExploration\n",
    "        self.tableauQ = {}\n",
    "\n",
    "    def choisirAction(self, etat):\n",
    "        if np.random.uniform() < self.tauxExploration:\n",
    "            # Exploration\n",
    "            return np.random.randint(0, 41, 1)[0]\n",
    "        else:\n",
    "            # Exploitation\n",
    "            if etat in self.tableauQ:\n",
    "                return np.argmax(self.tableauQ[etat])\n",
    "            \n",
    "            else:\n",
    "                return np.random.randint(0, 41, 1)[0]\n",
    "\n",
    "    def majTableauQ(self, etat, action, recompense, prochainEtat):\n",
    "        if etat not in self.tableauQ:\n",
    "            self.tableauQ[etat] = np.zeros(42)\n",
    "\n",
    "        if prochainEtat not in self.tableauQ:\n",
    "            self.tableauQ[prochainEtat] = np.zeros(42)\n",
    "\n",
    "        ancienneValeur = self.tableauQ[etat][action]\n",
    "        prochainMax = np.max(self.tableauQ[prochainEtat])\n",
    "        nouvelleValeur = (1 - self.tauxApprentissage) * ancienneValeur + self.tauxApprentissage * (recompense + self.discount * prochainMax)\n",
    "        self.tableauQ[etat][action] = nouvelleValeur"
   ]
  },
  {
   "cell_type": "code",
   "execution_count": 7,
   "id": "d68cac80",
   "metadata": {},
   "outputs": [],
   "source": [
    "def simulation(tauxPoisson1, tauxPoisson2):\n",
    "    intersection = Intersection(tauxPoisson1, tauxPoisson2)\n",
    "    agent = QLearner(tauxApprentissage = 0.05, discount = 0.05, tauxExploration = 0.05)\n",
    "    tempsAttenteTotal1 = 0\n",
    "    tempsAttenteTotal2 = 0\n",
    "\n",
    "    for i in range(10000):\n",
    "        etat = (intersection.file1, intersection.file2, intersection.lVerte)\n",
    "        action = agent.choisirAction(etat)\n",
    "        intersection.duree = action + 5 # Intervalle entre passage de rouge à vert\n",
    "        prochainEtat, recompense = intersection.etape()\n",
    "        agent.majTableauQ(etat, action, recompense, prochainEtat)\n",
    "        tempsAttenteTotal1 += prochainEtat[0]\n",
    "        tempsAttenteTotal2 += prochainEtat[1]\n",
    "\n",
    "    moyenneTempsAttente1 = tempsAttenteTotal1 / (10000 * tauxPoisson1)\n",
    "    moyenneTempsAttente2 = tempsAttenteTotal2 / (10000 * tauxPoisson2)\n",
    "\n",
    "    print(\"/// RESULTATS ///\")\n",
    "    print(\"Temps d'attente total :\", tempsAttenteTotal1 + tempsAttenteTotal2)\n",
    "    print(\"Temps d'attente moyen :\", (moyenneTempsAttente1 + moyenneTempsAttente2) / 2)\n",
    "    print(\"Temps d'attente total au feu 1 :\", tempsAttenteTotal1)\n",
    "    print(\"Temps d'attente moyen au feu 1 :\", moyenneTempsAttente1)\n",
    "    print(\"Temps d'attente total au feu 2 :\", tempsAttenteTotal2)\n",
    "    print(\"Temps d'attente moyen au feu 2 :\", moyenneTempsAttente2)"
   ]
  },
  {
   "cell_type": "code",
   "execution_count": 8,
   "id": "21e6ee68",
   "metadata": {},
   "outputs": [
    {
     "name": "stdout",
     "output_type": "stream",
     "text": [
      "/// RESULTATS ///\n",
      "Temps d'attente total : 24733\n",
      "Temps d'attente moyen : 4.86625\n",
      "Temps d'attente total au feu 1 : 8929\n",
      "Temps d'attente moyen au feu 1 : 4.4645\n",
      "Temps d'attente total au feu 2 : 15804\n",
      "Temps d'attente moyen au feu 2 : 5.268\n"
     ]
    }
   ],
   "source": [
    "simulation(0.2, 0.3)"
   ]
  }
 ],
 "metadata": {
  "kernelspec": {
   "display_name": "Python 3 (ipykernel)",
   "language": "python",
   "name": "python3"
  },
  "language_info": {
   "codemirror_mode": {
    "name": "ipython",
    "version": 3
   },
   "file_extension": ".py",
   "mimetype": "text/x-python",
   "name": "python",
   "nbconvert_exporter": "python",
   "pygments_lexer": "ipython3",
   "version": "3.9.7"
  }
 },
 "nbformat": 4,
 "nbformat_minor": 5
}
